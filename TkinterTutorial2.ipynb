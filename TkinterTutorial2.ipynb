{
 "cells": [
  {
   "cell_type": "code",
   "execution_count": null,
   "metadata": {},
   "outputs": [],
   "source": [
    "# Using Label\n",
    "# Changing Colors\n",
    "# Choosing font (\"Helvetica\", 16)\n",
    "# Cursor (e.g. dot, works on most widgets)"
   ]
  },
  {
   "cell_type": "code",
   "execution_count": null,
   "metadata": {},
   "outputs": [],
   "source": [
    "from tkinter import *\n",
    "\n",
    "root = Tk()\n",
    "\n",
    "label1 = Label(root, text=\"My first text!\", bg=\"purple\", fg=\"yellow\", font=(\"Helvetica\",40), cursor=\"dot\")\n",
    "#can use color hash\n",
    "label2 = Label(root, text=\"EXAMPLE\")\n",
    "\n",
    "label1.pack(side=LEFT) # Geometry Manager, Pack it in there!!!\n",
    "label2.pack(side=RIGHT)\n",
    "\n",
    "\n",
    "root.mainloop()"
   ]
  }
 ],
 "metadata": {
  "kernelspec": {
   "display_name": "Python 3",
   "language": "python",
   "name": "python3"
  },
  "language_info": {
   "codemirror_mode": {
    "name": "ipython",
    "version": 3
   },
   "file_extension": ".py",
   "mimetype": "text/x-python",
   "name": "python",
   "nbconvert_exporter": "python",
   "pygments_lexer": "ipython3",
   "version": "3.6.4"
  }
 },
 "nbformat": 4,
 "nbformat_minor": 2
}
