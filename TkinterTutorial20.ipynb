{
 "cells": [
  {
   "cell_type": "code",
   "execution_count": null,
   "metadata": {},
   "outputs": [],
   "source": [
    "#Creating a paint program"
   ]
  },
  {
   "cell_type": "code",
   "execution_count": null,
   "metadata": {},
   "outputs": [],
   "source": [
    "from tkinter import *\n",
    "\n",
    "\n",
    "\n",
    "root = Tk()\n",
    "\n",
    "\n",
    "title_label = Label(root, text=\"Click and drag to paint!\")\n",
    "title_label.pack()\n",
    "\n",
    "def paint(event):\n",
    "    paint_canvas.create_oval(event.x, event.y, event.x+20, event.y+20, fill=\"blue\", outline=\"blue\")\n",
    "\n",
    "paint_canvas = Canvas(root, height=300, width=300)\n",
    "paint_canvas.bind(\"<B1-Motion>\", paint)\n",
    "paint_canvas.pack()\n",
    "\n",
    "\n",
    "\n",
    "\n",
    "\n",
    "root.mainloop()"
   ]
  },
  {
   "cell_type": "code",
   "execution_count": null,
   "metadata": {},
   "outputs": [],
   "source": [
    "#Notes: B1-Motion has to be proper capitalization. , a paint brush is literally just an oval here."
   ]
  }
 ],
 "metadata": {
  "kernelspec": {
   "display_name": "Python 3",
   "language": "python",
   "name": "python3"
  },
  "language_info": {
   "codemirror_mode": {
    "name": "ipython",
    "version": 3
   },
   "file_extension": ".py",
   "mimetype": "text/x-python",
   "name": "python",
   "nbconvert_exporter": "python",
   "pygments_lexer": "ipython3",
   "version": "3.6.4"
  }
 },
 "nbformat": 4,
 "nbformat_minor": 2
}
