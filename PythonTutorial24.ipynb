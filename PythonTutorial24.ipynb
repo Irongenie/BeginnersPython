{
 "cells": [
  {
   "cell_type": "code",
   "execution_count": 37,
   "metadata": {},
   "outputs": [],
   "source": [
    "#BLUEPRINT PRACTICE\n",
    "class Rangers():\n",
    "    def __init__(self, name, sex, age, nationality, speciality, force):\n",
    "        self.name = name\n",
    "        self.sex = sex #ALWAYS USE SELF AND ALWAYS USE __INIT__ FOR CLASSES\n",
    "        self.age = age\n",
    "        self.nationality = nationality\n",
    "        self.speciality = speciality\n",
    "        self.force = force"
   ]
  },
  {
   "cell_type": "code",
   "execution_count": 4,
   "metadata": {},
   "outputs": [],
   "source": [
    "class example1():\n",
    "    def hi():\n",
    "        print(\"HOLA\")\n",
    "    def hello():\n",
    "        print(\"Hello in English\")"
   ]
  },
  {
   "cell_type": "code",
   "execution_count": 5,
   "metadata": {},
   "outputs": [
    {
     "name": "stdout",
     "output_type": "stream",
     "text": [
      "HOLA\n"
     ]
    }
   ],
   "source": [
    "example1.hi()"
   ]
  },
  {
   "cell_type": "code",
   "execution_count": 39,
   "metadata": {},
   "outputs": [],
   "source": [
    "samuel = Rangers(\"Samuel\", \"M\", 29, \"United Kingdom\", \"Counter Terrorism\", \"SAS\")\n",
    "romeo = Rangers(\"Romeo\", \"M\", 31, \"Costa Rica\", \"Explosives\", \"FARC\")"
   ]
  },
  {
   "cell_type": "code",
   "execution_count": 40,
   "metadata": {},
   "outputs": [
    {
     "data": {
      "text/plain": [
       "'Samuel'"
      ]
     },
     "execution_count": 40,
     "metadata": {},
     "output_type": "execute_result"
    }
   ],
   "source": [
    "samuel.name"
   ]
  },
  {
   "cell_type": "code",
   "execution_count": 41,
   "metadata": {},
   "outputs": [
    {
     "data": {
      "text/plain": [
       "'United Kingdom'"
      ]
     },
     "execution_count": 41,
     "metadata": {},
     "output_type": "execute_result"
    }
   ],
   "source": [
    "samuel.nationality"
   ]
  }
 ],
 "metadata": {
  "kernelspec": {
   "display_name": "Python 3",
   "language": "python",
   "name": "python3"
  },
  "language_info": {
   "codemirror_mode": {
    "name": "ipython",
    "version": 3
   },
   "file_extension": ".py",
   "mimetype": "text/x-python",
   "name": "python",
   "nbconvert_exporter": "python",
   "pygments_lexer": "ipython3",
   "version": "3.6.4"
  }
 },
 "nbformat": 4,
 "nbformat_minor": 2
}
