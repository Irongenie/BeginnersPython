{
 "cells": [
  {
   "cell_type": "code",
   "execution_count": null,
   "metadata": {},
   "outputs": [],
   "source": [
    "#Using Grid"
   ]
  },
  {
   "cell_type": "code",
   "execution_count": 7,
   "metadata": {},
   "outputs": [
    {
     "name": "stdout",
     "output_type": "stream",
     "text": [
      "Ben is there name, 36 is their age.\n"
     ]
    }
   ],
   "source": [
    "from tkinter import *\n",
    "\n",
    "root = Tk()\n",
    "\n",
    "def getd():\n",
    "    data = user_entry.get()\n",
    "    data2 = user_entry2.get()\n",
    "    print(data, \"is there name,\", data2,\"is their age.\")\n",
    "    \n",
    "user_entry = Entry(root)\n",
    "button1 = Button(root, text=\"Submit\", command=getd)\n",
    "\n",
    "user_entry2 = Entry(root)\n",
    "button2 = Button(root,text=\"Second Submit\", command=getd)\n",
    "\n",
    "user_entry.grid(row=0, column=1)\n",
    "button1.grid(row=0, column=0)\n",
    "user_entry2.grid(row=1, column=1)\n",
    "button2.grid(row=1, column=0)\n",
    "\n",
    "root.mainloop()"
   ]
  },
  {
   "cell_type": "code",
   "execution_count": 5,
   "metadata": {},
   "outputs": [],
   "source": [
    "#NOTE:TclError: cannot use geometry manager pack inside . which already has slaves managed by grid\n",
    "# can either use all pack or all grid not both"
   ]
  }
 ],
 "metadata": {
  "kernelspec": {
   "display_name": "Python 3",
   "language": "python",
   "name": "python3"
  },
  "language_info": {
   "codemirror_mode": {
    "name": "ipython",
    "version": 3
   },
   "file_extension": ".py",
   "mimetype": "text/x-python",
   "name": "python",
   "nbconvert_exporter": "python",
   "pygments_lexer": "ipython3",
   "version": "3.6.4"
  }
 },
 "nbformat": 4,
 "nbformat_minor": 2
}
