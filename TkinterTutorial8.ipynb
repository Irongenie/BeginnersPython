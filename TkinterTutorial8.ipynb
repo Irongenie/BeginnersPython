{
 "cells": [
  {
   "cell_type": "code",
   "execution_count": null,
   "metadata": {},
   "outputs": [],
   "source": [
    "#Bind vs command"
   ]
  },
  {
   "cell_type": "code",
   "execution_count": null,
   "metadata": {},
   "outputs": [],
   "source": [
    "#Key and Button 1"
   ]
  },
  {
   "cell_type": "code",
   "execution_count": 2,
   "metadata": {},
   "outputs": [
    {
     "name": "stdout",
     "output_type": "stream",
     "text": [
      "Working\n",
      "Working\n",
      "Working\n",
      "Working\n",
      "WORKING\n",
      "WORKING\n",
      "WORKING\n",
      "WORKING\n",
      "WORKING\n",
      "WORKING\n",
      "WORKING\n",
      "WORKING\n",
      "WORKING\n",
      "WORKING\n",
      "WORKING\n"
     ]
    }
   ],
   "source": [
    "from tkinter import *\n",
    "\n",
    "root = Tk()\n",
    "\n",
    "def click1(event): #variable must be defined, anything works, event is standard\n",
    "    print(\"Working\")\n",
    "\n",
    "def click2(event):\n",
    "    print(\"WORKING\")\n",
    "    \n",
    "\n",
    "\n",
    "button1 = Button(root, text=\"Left click me please\")\n",
    "button1.bind(\"<Button-1>\", click1) #\"Button 1 is left click\"\n",
    "button1.bind(\"<Button-3>\", click2) #\"Button 3 is right click\"\n",
    "button1.pack()\n",
    "root.bind(\"<Button-3>\", click2) # allows right click anywhere in the window of root\n",
    "\n",
    "\n",
    "\n",
    "\n",
    "root.mainloop()"
   ]
  },
  {
   "cell_type": "code",
   "execution_count": null,
   "metadata": {},
   "outputs": [],
   "source": []
  }
 ],
 "metadata": {
  "kernelspec": {
   "display_name": "Python 3",
   "language": "python",
   "name": "python3"
  },
  "language_info": {
   "codemirror_mode": {
    "name": "ipython",
    "version": 3
   },
   "file_extension": ".py",
   "mimetype": "text/x-python",
   "name": "python",
   "nbconvert_exporter": "python",
   "pygments_lexer": "ipython3",
   "version": "3.6.4"
  }
 },
 "nbformat": 4,
 "nbformat_minor": 2
}
