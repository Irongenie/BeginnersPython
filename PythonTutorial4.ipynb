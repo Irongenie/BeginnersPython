{
 "cells": [
  {
   "cell_type": "code",
   "execution_count": null,
   "metadata": {},
   "outputs": [],
   "source": [
    "Why use commenting? #proper documentation, to help other programmers if working on a team and just friendly reminders."
   ]
  },
  {
   "cell_type": "code",
   "execution_count": null,
   "metadata": {},
   "outputs": [],
   "source": [
    "#describing a function"
   ]
  },
  {
   "cell_type": "code",
   "execution_count": 19,
   "metadata": {
    "scrolled": true
   },
   "outputs": [
    {
     "name": "stdout",
     "output_type": "stream",
     "text": [
      "10\n",
      "Yay2\n"
     ]
    }
   ],
   "source": [
    "#creating a variable for use in an if function\n",
    "a = (3+7)\n",
    "print (a)\n",
    "if a == (10):\n",
    "    # print(\"Yay\") - can temporarily take code out, i.e.\n",
    "    print(\"Yay2\")"
   ]
  },
  {
   "cell_type": "code",
   "execution_count": 20,
   "metadata": {},
   "outputs": [
    {
     "data": {
      "text/plain": [
       "'\\nhello I am commenting\\nThis is the best course ever!!!\\n'"
      ]
     },
     "execution_count": 20,
     "metadata": {},
     "output_type": "execute_result"
    }
   ],
   "source": [
    "'''\n",
    "hello I am commenting\n",
    "This is the best course ever!!!\n",
    "'''\n",
    "# \\n stuff will appear in notebook but not when you run python file. annoying."
   ]
  },
  {
   "cell_type": "code",
   "execution_count": null,
   "metadata": {},
   "outputs": [],
   "source": [
    "ctrl + / # pressing these two keys together while you have a section highlighted it will take entire section out and make it a comment.\n",
    "\n",
    "# a = (3+7)\n",
    "# print (a)\n",
    "# if a == (10):\n",
    "#     # print(\"Yay\") - can temporarily take code out, i.e.\n",
    "#     print(\"Yay2\")"
   ]
  }
 ],
 "metadata": {
  "kernelspec": {
   "display_name": "Python 3",
   "language": "python",
   "name": "python3"
  },
  "language_info": {
   "codemirror_mode": {
    "name": "ipython",
    "version": 3
   },
   "file_extension": ".py",
   "mimetype": "text/x-python",
   "name": "python",
   "nbconvert_exporter": "python",
   "pygments_lexer": "ipython3",
   "version": "3.6.4"
  }
 },
 "nbformat": 4,
 "nbformat_minor": 2
}
