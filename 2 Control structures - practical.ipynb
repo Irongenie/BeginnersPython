{
 "cells": [
  {
   "cell_type": "markdown",
   "metadata": {
    "collapsed": true
   },
   "source": [
    "1) True/false, and/or, ==/!=, in/not in"
   ]
  },
  {
   "cell_type": "markdown",
   "metadata": {
    "collapsed": true
   },
   "source": [
    "Fill in the blanks to return True for the following:"
   ]
  },
  {
   "cell_type": "code",
   "execution_count": 1,
   "metadata": {},
   "outputs": [
    {
     "data": {
      "text/plain": [
       "True"
      ]
     },
     "execution_count": 1,
     "metadata": {},
     "output_type": "execute_result"
    }
   ],
   "source": [
    "#For example\n",
    "10 <= 200"
   ]
  },
  {
   "cell_type": "code",
   "execution_count": 1,
   "metadata": {},
   "outputs": [
    {
     "data": {
      "text/plain": [
       "True"
      ]
     },
     "execution_count": 1,
     "metadata": {},
     "output_type": "execute_result"
    }
   ],
   "source": [
    "1 == 1"
   ]
  },
  {
   "cell_type": "code",
   "execution_count": 2,
   "metadata": {},
   "outputs": [
    {
     "data": {
      "text/plain": [
       "True"
      ]
     },
     "execution_count": 2,
     "metadata": {},
     "output_type": "execute_result"
    }
   ],
   "source": [
    "10 > 9"
   ]
  },
  {
   "cell_type": "code",
   "execution_count": 6,
   "metadata": {},
   "outputs": [],
   "source": [
    "#Run this cell\n",
    "ls = [1,4,6,7,8]"
   ]
  },
  {
   "cell_type": "code",
   "execution_count": 7,
   "metadata": {},
   "outputs": [
    {
     "data": {
      "text/plain": [
       "True"
      ]
     },
     "execution_count": 7,
     "metadata": {},
     "output_type": "execute_result"
    }
   ],
   "source": [
    " 6 in ls"
   ]
  },
  {
   "cell_type": "code",
   "execution_count": null,
   "metadata": {},
   "outputs": [],
   "source": [
    "4 != 6 and 4 == 4"
   ]
  },
  {
   "cell_type": "markdown",
   "metadata": {
    "collapsed": true
   },
   "source": [
    "2) If/else/elif"
   ]
  },
  {
   "cell_type": "markdown",
   "metadata": {
    "collapsed": true
   },
   "source": [
    "a) Ask the user their age. If they are under 16 tell them that they arent yet ready to drive. If they are exactly 63 then\n",
    "congratulate them on being awesome. If theyre over 16 but not 63 then tell them theyre ready to learn to drive.\n",
    "(Hint: user input is always a string so it will need converting into an integer)"
   ]
  },
  {
   "cell_type": "code",
   "execution_count": 41,
   "metadata": {
    "scrolled": false
   },
   "outputs": [
    {
     "name": "stdout",
     "output_type": "stream",
     "text": [
      "How old are you? 13\n",
      "Sorry you are too young\n"
     ]
    }
   ],
   "source": [
    "age = int(input(\"How old are you? \"))\n",
    "if age == 63:\n",
    "    print(\"You are awesome!!!!\")\n",
    "elif age < 16:\n",
    "    print(\"Sorry you are too young\")\n",
    "else:\n",
    "    print(\"You are ready to learn to drive!!!\")"
   ]
  },
  {
   "cell_type": "markdown",
   "metadata": {
    "collapsed": true
   },
   "source": [
    "3) While loops"
   ]
  },
  {
   "cell_type": "markdown",
   "metadata": {
    "collapsed": true
   },
   "source": [
    "Create a character (variable) that has 30 health. Have him lose 1 health steadily due to poison. When their health reaches 10\n",
    "print a warning."
   ]
  },
  {
   "cell_type": "code",
   "execution_count": 45,
   "metadata": {},
   "outputs": [
    {
     "name": "stdout",
     "output_type": "stream",
     "text": [
      "Jim loses 1 health from poison!\n",
      "Jim's health is 29 !\n",
      "Jim loses 1 health from poison!\n",
      "Jim's health is 28 !\n",
      "Jim loses 1 health from poison!\n",
      "Jim's health is 27 !\n",
      "Jim loses 1 health from poison!\n",
      "Jim's health is 26 !\n",
      "Jim loses 1 health from poison!\n",
      "Jim's health is 25 !\n",
      "Jim loses 1 health from poison!\n",
      "Jim's health is 24 !\n",
      "Jim loses 1 health from poison!\n",
      "Jim's health is 23 !\n",
      "Jim loses 1 health from poison!\n",
      "Jim's health is 22 !\n",
      "Jim loses 1 health from poison!\n",
      "Jim's health is 21 !\n",
      "Jim loses 1 health from poison!\n",
      "Jim's health is 20 !\n",
      "Jim loses 1 health from poison!\n",
      "Jim's health is 19 !\n",
      "Jim loses 1 health from poison!\n",
      "Jim's health is 18 !\n",
      "Jim loses 1 health from poison!\n",
      "Jim's health is 17 !\n",
      "Jim loses 1 health from poison!\n",
      "Jim's health is 16 !\n",
      "Jim loses 1 health from poison!\n",
      "Jim's health is 15 !\n",
      "Jim loses 1 health from poison!\n",
      "Jim's health is 14 !\n",
      "Jim loses 1 health from poison!\n",
      "Jim's health is 13 !\n",
      "Jim loses 1 health from poison!\n",
      "Jim's health is 12 !\n",
      "Jim loses 1 health from poison!\n",
      "Jim's health is 11 !\n",
      "Jim loses 1 health from poison!\n",
      "Jim's health is 10 !\n",
      "Warning, Jim is at 10 health!!!\n",
      "Jim loses 1 health from poison!\n",
      "Jim's health is 9 !\n",
      "Jim loses 1 health from poison!\n",
      "Jim's health is 8 !\n",
      "Jim loses 1 health from poison!\n",
      "Jim's health is 7 !\n",
      "Jim loses 1 health from poison!\n",
      "Jim's health is 6 !\n",
      "Jim loses 1 health from poison!\n",
      "Jim's health is 5 !\n",
      "Jim loses 1 health from poison!\n",
      "Jim's health is 4 !\n",
      "Jim loses 1 health from poison!\n",
      "Jim's health is 3 !\n",
      "Jim loses 1 health from poison!\n",
      "Jim's health is 2 !\n",
      "Jim loses 1 health from poison!\n",
      "Jim's health is 1 !\n",
      "Jim loses 1 health from poison!\n",
      "Jim's health is 0 !\n"
     ]
    }
   ],
   "source": [
    "Jim_Health = 30\n",
    "while Jim_Health > 0:\n",
    "    print(\"Jim loses 1 health from poison!\")\n",
    "    Jim_Health -= 1\n",
    "    print(\"Jim's health is\", Jim_Health,\"!\")\n",
    "    if Jim_Health == 10:\n",
    "        print(\"Warning, Jim is at\", Jim_Health,\"health!!!\")"
   ]
  },
  {
   "cell_type": "markdown",
   "metadata": {
    "collapsed": true
   },
   "source": [
    "4) Lists"
   ]
  },
  {
   "cell_type": "markdown",
   "metadata": {
    "collapsed": true
   },
   "source": [
    "a) Create a list that contains elements that are strings, integers, at least one variable and another list"
   ]
  },
  {
   "cell_type": "code",
   "execution_count": 6,
   "metadata": {},
   "outputs": [
    {
     "data": {
      "text/plain": [
       "['String1', 11122, 'HIYA', 40.2, [3, 4, 5]]"
      ]
     },
     "execution_count": 6,
     "metadata": {},
     "output_type": "execute_result"
    }
   ],
   "source": [
    "alpha = \"HIYA\"\n",
    "Sample_List = [\"String1\", 11122, alpha, 40.2, [3,4,5]]\n",
    "Sample_List"
   ]
  },
  {
   "cell_type": "markdown",
   "metadata": {
    "collapsed": true
   },
   "source": [
    "b) Check the type of this list (unsuprisingly it should tell you it is a list)"
   ]
  },
  {
   "cell_type": "code",
   "execution_count": 7,
   "metadata": {},
   "outputs": [
    {
     "data": {
      "text/plain": [
       "list"
      ]
     },
     "execution_count": 7,
     "metadata": {},
     "output_type": "execute_result"
    }
   ],
   "source": [
    "type(Sample_List)"
   ]
  },
  {
   "cell_type": "markdown",
   "metadata": {
    "collapsed": true
   },
   "source": [
    "c) print an element from the list (Hint: list_name[])"
   ]
  },
  {
   "cell_type": "code",
   "execution_count": 46,
   "metadata": {},
   "outputs": [
    {
     "data": {
      "text/plain": [
       "40.2"
      ]
     },
     "execution_count": 46,
     "metadata": {},
     "output_type": "execute_result"
    }
   ],
   "source": [
    "Sample_List[3] #do not need print()!!!"
   ]
  },
  {
   "cell_type": "markdown",
   "metadata": {
    "collapsed": true
   },
   "source": [
    "5) for loops. Run the cell below:"
   ]
  },
  {
   "cell_type": "code",
   "execution_count": 47,
   "metadata": {},
   "outputs": [],
   "source": [
    "ls = [3,50,75,100,124]"
   ]
  },
  {
   "cell_type": "markdown",
   "metadata": {
    "collapsed": true
   },
   "source": [
    "a) multiply each element in the list by 10 and print it"
   ]
  },
  {
   "cell_type": "code",
   "execution_count": 13,
   "metadata": {},
   "outputs": [
    {
     "name": "stdout",
     "output_type": "stream",
     "text": [
      "30\n",
      "500\n",
      "750\n",
      "1000\n",
      "1240\n"
     ]
    }
   ],
   "source": [
    "for i in ls:\n",
    "    print(i * 10)"
   ]
  },
  {
   "cell_type": "markdown",
   "metadata": {
    "collapsed": true
   },
   "source": [
    "6) List comprehension. In one line of code create a list of all numbers between 20 and 30"
   ]
  },
  {
   "cell_type": "code",
   "execution_count": 49,
   "metadata": {},
   "outputs": [
    {
     "data": {
      "text/plain": [
       "[20, 21, 22, 23, 24, 25, 26, 27, 28, 29, 30]"
      ]
     },
     "execution_count": 49,
     "metadata": {},
     "output_type": "execute_result"
    }
   ],
   "source": [
    "#MY ANSWER:: for i in range(20,30):\n",
    "#                   ls = [print(i)]\n",
    "# WRONG , CORRECT BELOW\n",
    "\n",
    "[i for i in range (20,31)]"
   ]
  }
 ],
 "metadata": {
  "kernelspec": {
   "display_name": "Python 3",
   "language": "python",
   "name": "python3"
  },
  "language_info": {
   "codemirror_mode": {
    "name": "ipython",
    "version": 3
   },
   "file_extension": ".py",
   "mimetype": "text/x-python",
   "name": "python",
   "nbconvert_exporter": "python",
   "pygments_lexer": "ipython3",
   "version": "3.6.4"
  }
 },
 "nbformat": 4,
 "nbformat_minor": 2
}
