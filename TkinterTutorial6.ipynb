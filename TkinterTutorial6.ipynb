{
 "cells": [
  {
   "cell_type": "code",
   "execution_count": null,
   "metadata": {},
   "outputs": [],
   "source": [
    "#Introducing Command // Interactive buttons"
   ]
  },
  {
   "cell_type": "code",
   "execution_count": 3,
   "metadata": {},
   "outputs": [
    {
     "name": "stdout",
     "output_type": "stream",
     "text": [
      "Nice click you have there\n",
      "Nice click you have there\n",
      "Nice click you have there\n",
      "Nice click you have there\n",
      "Nice click you have there\n",
      "Nice click you have there\n",
      "Nice click you have there\n",
      "Nice click you have there\n",
      "Nice click you have there\n",
      "Nice click you have there\n",
      "Nice click you have there\n",
      "Nice click you have there\n",
      "Nice click you have there\n",
      "Nice click you have there\n"
     ]
    }
   ],
   "source": [
    "from tkinter import *\n",
    "\n",
    "root = Tk()\n",
    "\n",
    "def click1():\n",
    "    print(\"Nice click you have there\")\n",
    "\n",
    "\n",
    "\n",
    "fun_button = Button(root, text=\"Click me, now!!!\", command=click1) #Command = can call function\n",
    "fun_button.pack()\n",
    "\n",
    "\n",
    "\n",
    "\n",
    "\n",
    "root.mainloop()"
   ]
  }
 ],
 "metadata": {
  "kernelspec": {
   "display_name": "Python 3",
   "language": "python",
   "name": "python3"
  },
  "language_info": {
   "codemirror_mode": {
    "name": "ipython",
    "version": 3
   },
   "file_extension": ".py",
   "mimetype": "text/x-python",
   "name": "python",
   "nbconvert_exporter": "python",
   "pygments_lexer": "ipython3",
   "version": "3.6.4"
  }
 },
 "nbformat": 4,
 "nbformat_minor": 2
}
