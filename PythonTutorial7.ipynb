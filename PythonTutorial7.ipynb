{
 "cells": [
  {
   "cell_type": "code",
   "execution_count": 1,
   "metadata": {},
   "outputs": [],
   "source": [
    "# while countdown (+=)"
   ]
  },
  {
   "cell_type": "code",
   "execution_count": 22,
   "metadata": {},
   "outputs": [],
   "source": [
    "counter = 10"
   ]
  },
  {
   "cell_type": "code",
   "execution_count": 23,
   "metadata": {},
   "outputs": [
    {
     "name": "stdout",
     "output_type": "stream",
     "text": [
      "Running\n",
      "9\n",
      "Running\n",
      "8\n",
      "Running\n",
      "7\n",
      "Running\n",
      "6\n",
      "Running\n",
      "5\n",
      "Running\n",
      "4\n",
      "Running\n",
      "3\n",
      "Running\n",
      "2\n",
      "Running\n",
      "1\n",
      "Running\n",
      "0\n"
     ]
    }
   ],
   "source": [
    "# on counter -= 1 is the same as counter = counter -1\n",
    "while counter > 0:\n",
    "    print(\"Running\")\n",
    "    counter -= 1\n",
    "    print (counter)"
   ]
  },
  {
   "cell_type": "code",
   "execution_count": null,
   "metadata": {},
   "outputs": [],
   "source": []
  },
  {
   "cell_type": "code",
   "execution_count": 3,
   "metadata": {},
   "outputs": [],
   "source": [
    "#game (health)"
   ]
  },
  {
   "cell_type": "code",
   "execution_count": 27,
   "metadata": {},
   "outputs": [],
   "source": [
    "jim_health = 5"
   ]
  },
  {
   "cell_type": "code",
   "execution_count": 28,
   "metadata": {},
   "outputs": [
    {
     "name": "stdout",
     "output_type": "stream",
     "text": [
      "Jim is Alive!\n",
      "Jim fell over!!! =(\n",
      "Jim's health is:  4\n",
      "Jim is Alive!\n",
      "Jim fell over!!! =(\n",
      "Jim's health is:  3\n",
      "Jim is Alive!\n",
      "Jim fell over!!! =(\n",
      "Jim's health is:  2\n",
      "Jim is Alive!\n",
      "Jim fell over!!! =(\n",
      "Jim's health is:  1\n",
      "Jim is Alive!\n",
      "Jim fell over!!! =(\n",
      "Jim's health is:  0\n",
      "GAME OVER\n"
     ]
    }
   ],
   "source": [
    "while jim_health > 0:\n",
    "    print(\"Jim is Alive!\")\n",
    "    print(\"Jim fell over!!! =(\")\n",
    "    jim_health -= 1\n",
    "    print(\"Jim's health is: \", jim_health)\n",
    "print (\"GAME OVER\")"
   ]
  },
  {
   "cell_type": "code",
   "execution_count": null,
   "metadata": {},
   "outputs": [],
   "source": []
  },
  {
   "cell_type": "code",
   "execution_count": 38,
   "metadata": {},
   "outputs": [
    {
     "name": "stdout",
     "output_type": "stream",
     "text": [
      "Running\n",
      "Keep Running?:ddd\n",
      "Running\n",
      "Keep Running?:ofoff\n",
      "Running\n",
      "Keep Running?:Yes\n",
      "Running\n",
      "Keep Running?:YES\n",
      "Running\n",
      "Keep Running?:NO\n",
      "Stopped\n"
     ]
    }
   ],
   "source": [
    "#break example program just stops the while loop from infinite CASE SENSITIVE\n",
    "while True:\n",
    "    print(\"Running\")\n",
    "    user_input = input(\"Keep Running?:\")\n",
    "    if user_input == \"no\" or user_input == \"No\" or user_input == \"NO\":\n",
    "        break\n",
    "print(\"Stopped\")"
   ]
  },
  {
   "cell_type": "code",
   "execution_count": null,
   "metadata": {},
   "outputs": [],
   "source": []
  },
  {
   "cell_type": "code",
   "execution_count": null,
   "metadata": {},
   "outputs": [],
   "source": [
    "#Example"
   ]
  },
  {
   "cell_type": "code",
   "execution_count": 69,
   "metadata": {},
   "outputs": [],
   "source": [
    "counter = 0"
   ]
  },
  {
   "cell_type": "code",
   "execution_count": 70,
   "metadata": {},
   "outputs": [
    {
     "name": "stdout",
     "output_type": "stream",
     "text": [
      "Running\n",
      "1\n",
      "Running\n",
      "2\n",
      "Running\n",
      "3\n",
      "Running\n",
      "4\n",
      "Running\n",
      "5\n",
      "Running\n",
      "6\n",
      "Running\n",
      "7\n",
      "Running\n",
      "8\n",
      "Running\n",
      "9\n",
      "Running\n",
      "10\n"
     ]
    }
   ],
   "source": [
    "while counter < 10:\n",
    "    print(\"Running\")\n",
    "    counter += 1\n",
    "    print(counter)"
   ]
  }
 ],
 "metadata": {
  "kernelspec": {
   "display_name": "Python 3",
   "language": "python",
   "name": "python3"
  },
  "language_info": {
   "codemirror_mode": {
    "name": "ipython",
    "version": 3
   },
   "file_extension": ".py",
   "mimetype": "text/x-python",
   "name": "python",
   "nbconvert_exporter": "python",
   "pygments_lexer": "ipython3",
   "version": "3.6.4"
  }
 },
 "nbformat": 4,
 "nbformat_minor": 2
}
