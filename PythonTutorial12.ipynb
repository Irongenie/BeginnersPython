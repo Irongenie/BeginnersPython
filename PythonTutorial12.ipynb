{
 "cells": [
  {
   "cell_type": "code",
   "execution_count": null,
   "metadata": {},
   "outputs": [],
   "source": [
    "#Creating and calling a function"
   ]
  },
  {
   "cell_type": "code",
   "execution_count": 4,
   "metadata": {},
   "outputs": [],
   "source": [
    "def foo():\n",
    "    print(\"Hello\")\n",
    "    print(\"How are you?\")"
   ]
  },
  {
   "cell_type": "code",
   "execution_count": 2,
   "metadata": {},
   "outputs": [
    {
     "name": "stdout",
     "output_type": "stream",
     "text": [
      "Hello\n",
      "How are you?\n"
     ]
    }
   ],
   "source": [
    "foo()"
   ]
  },
  {
   "cell_type": "code",
   "execution_count": null,
   "metadata": {},
   "outputs": [],
   "source": []
  },
  {
   "cell_type": "code",
   "execution_count": null,
   "metadata": {},
   "outputs": [],
   "source": [
    "#Functions with inputs"
   ]
  },
  {
   "cell_type": "code",
   "execution_count": 10,
   "metadata": {},
   "outputs": [],
   "source": [
    "def foo2(x):\n",
    "    print(\"Hello\",x)\n",
    "def foo3():\n",
    "    print(\"Calling function...\")\n",
    "    foo()"
   ]
  },
  {
   "cell_type": "code",
   "execution_count": 8,
   "metadata": {},
   "outputs": [
    {
     "name": "stdout",
     "output_type": "stream",
     "text": [
      "Hello John\n"
     ]
    }
   ],
   "source": [
    "foo2(\"John\")"
   ]
  },
  {
   "cell_type": "code",
   "execution_count": 9,
   "metadata": {},
   "outputs": [
    {
     "name": "stdout",
     "output_type": "stream",
     "text": [
      "Hello Jill\n",
      "Hello 3\n"
     ]
    }
   ],
   "source": [
    "foo2(\"Jill\")\n",
    "foo2(3)"
   ]
  },
  {
   "cell_type": "code",
   "execution_count": 35,
   "metadata": {
    "scrolled": true
   },
   "outputs": [
    {
     "name": "stdout",
     "output_type": "stream",
     "text": [
      "Calling function...\n",
      "Hello\n",
      "How are you?\n"
     ]
    }
   ],
   "source": [
    "foo3() #function in a function"
   ]
  },
  {
   "cell_type": "code",
   "execution_count": null,
   "metadata": {},
   "outputs": [],
   "source": []
  },
  {
   "cell_type": "code",
   "execution_count": null,
   "metadata": {},
   "outputs": [],
   "source": [
    "#return - storing variable, e.g. accounts"
   ]
  },
  {
   "cell_type": "code",
   "execution_count": 46,
   "metadata": {},
   "outputs": [],
   "source": [
    "# MUST RETURN NEW FUNCTIONS DEFINED INSIDE A FUNCTION SO IT CAN BE USED OUTSIDE \n",
    "# OF THE FUNCTION, MUST BE USED IMMEDIATELY.\n",
    "def money_removal(balance):\n",
    "    new_balance = balance - 20\n",
    "    return new_balance"
   ]
  },
  {
   "cell_type": "code",
   "execution_count": 47,
   "metadata": {},
   "outputs": [],
   "source": [
    "def check(new_balance):\n",
    "    if new_balance > 50:\n",
    "        print(\"Your account is still high, new balance is:\",new_balance)\n",
    "        pass\n",
    "    else:\n",
    "        print(\"You are broke as shit! your balance is:\",new_balance)"
   ]
  },
  {
   "cell_type": "code",
   "execution_count": 48,
   "metadata": {},
   "outputs": [
    {
     "data": {
      "text/plain": [
       "100"
      ]
     },
     "execution_count": 48,
     "metadata": {},
     "output_type": "execute_result"
    }
   ],
   "source": [
    "money_removal(120)"
   ]
  },
  {
   "cell_type": "code",
   "execution_count": 49,
   "metadata": {},
   "outputs": [
    {
     "name": "stdout",
     "output_type": "stream",
     "text": [
      "Your account is still high, new balance is: 100\n"
     ]
    }
   ],
   "source": [
    "check(money_removal(120))"
   ]
  },
  {
   "cell_type": "code",
   "execution_count": 50,
   "metadata": {},
   "outputs": [
    {
     "name": "stdout",
     "output_type": "stream",
     "text": [
      "You are broke as shit! your balance is: 20\n"
     ]
    }
   ],
   "source": [
    "check(money_removal(40))"
   ]
  },
  {
   "cell_type": "code",
   "execution_count": null,
   "metadata": {},
   "outputs": [],
   "source": []
  },
  {
   "cell_type": "code",
   "execution_count": 92,
   "metadata": {},
   "outputs": [],
   "source": [
    "# Game code developed by me!!!"
   ]
  },
  {
   "cell_type": "code",
   "execution_count": 93,
   "metadata": {},
   "outputs": [],
   "source": [
    "def roundsleft(oldamt, shotsfired):\n",
    "    roundsleft = oldamt - shotsfired\n",
    "    if roundsleft <= 100 and roundsleft > 0:\n",
    "        print(\"YOU ARE RUNNING OUT OF AMMO,\",roundsleft,\"ROUNDS ARE LEFT\")\n",
    "    elif roundsleft <= 0:\n",
    "        print(\"RUN YOU ARE OUT OF AMMO\")\n",
    "    else:\n",
    "        print(\"YOU HAVE\",roundsleft,\"ROUNDS LEFT, GOOD LUCK!\")"
   ]
  },
  {
   "cell_type": "code",
   "execution_count": 94,
   "metadata": {},
   "outputs": [
    {
     "name": "stdout",
     "output_type": "stream",
     "text": [
      "YOU HAVE 9850 ROUNDS LEFT, GOOD LUCK!\n"
     ]
    }
   ],
   "source": [
    "roundsleft(10000,150)"
   ]
  },
  {
   "cell_type": "code",
   "execution_count": 95,
   "metadata": {},
   "outputs": [
    {
     "name": "stdout",
     "output_type": "stream",
     "text": [
      "YOU ARE RUNNING OUT OF AMMO, 50 ROUNDS ARE LEFT\n"
     ]
    }
   ],
   "source": [
    "roundsleft(150,100)"
   ]
  },
  {
   "cell_type": "code",
   "execution_count": 97,
   "metadata": {},
   "outputs": [
    {
     "name": "stdout",
     "output_type": "stream",
     "text": [
      "RUN YOU ARE OUT OF AMMO\n"
     ]
    }
   ],
   "source": [
    "roundsleft(100,100)"
   ]
  },
  {
   "cell_type": "code",
   "execution_count": 98,
   "metadata": {},
   "outputs": [
    {
     "name": "stdout",
     "output_type": "stream",
     "text": [
      "RUN YOU ARE OUT OF AMMO\n"
     ]
    }
   ],
   "source": [
    "roundsleft(50,100)"
   ]
  }
 ],
 "metadata": {
  "kernelspec": {
   "display_name": "Python 3",
   "language": "python",
   "name": "python3"
  },
  "language_info": {
   "codemirror_mode": {
    "name": "ipython",
    "version": 3
   },
   "file_extension": ".py",
   "mimetype": "text/x-python",
   "name": "python",
   "nbconvert_exporter": "python",
   "pygments_lexer": "ipython3",
   "version": "3.6.4"
  }
 },
 "nbformat": 4,
 "nbformat_minor": 2
}
