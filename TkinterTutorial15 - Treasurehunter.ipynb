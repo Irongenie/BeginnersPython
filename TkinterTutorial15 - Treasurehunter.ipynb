{
 "cells": [
  {
   "cell_type": "code",
   "execution_count": null,
   "metadata": {},
   "outputs": [],
   "source": [
    "#GAME RULES\n",
    "'''Random generated co-ordinate within a fram (hint:import random)\n",
    "user must click and guess where this co-ordinate is\n",
    "each time they click the game tells them how far away their guess is\n",
    "when user is within 15 then they win\n",
    "\n",
    "OPTIONAL:\n",
    "\n",
    "When they win the game tells them how many guesses it took them.\n",
    "Add a title and icon to the window that is to do with the treasure.\n",
    "'''"
   ]
  },
  {
   "cell_type": "code",
   "execution_count": 17,
   "metadata": {},
   "outputs": [
    {
     "name": "stdout",
     "output_type": "stream",
     "text": [
      "You click at x: 98, y 40. You are X 86 and Y 4 away\n",
      "You click at x: 132, y 32. You are X 120 and Y 12 away\n",
      "You click at x: 155, y 28. You are X 143 and Y 16 away\n",
      "You click at x: 169, y 33. You are X 157 and Y 11 away\n",
      "You click at x: 181, y 71. You are X 169 and Y 27 away\n",
      "You click at x: 162, y 97. You are X 150 and Y 53 away\n",
      "You click at x: 163, y 147. You are X 151 and Y 103 away\n",
      "You click at x: 144, y 174. You are X 132 and Y 130 away\n",
      "You click at x: 99, y 175. You are X 87 and Y 131 away\n",
      "You click at x: 58, y 122. You are X 46 and Y 78 away\n",
      "You click at x: 87, y 87. You are X 75 and Y 43 away\n",
      "You click at x: 103, y 57. You are X 91 and Y 13 away\n",
      "You click at x: 80, y 21. You are X 68 and Y 23 away\n",
      "You click at x: 42, y 24. You are X 30 and Y 20 away\n",
      "You click at x: 5, y 34. You are X 7 and Y 10 away\n",
      "You click at x: 21, y 33. You are X 9 and Y 11 away\n",
      "You click at x: 14, y 45. You are X 2 and Y 1 away\n",
      "You click at x: 14, y 45. You are X 2 and Y 1 away\n",
      "You click at x: 14, y 45. You are X 2 and Y 1 away\n",
      "You click at x: 14, y 46. You are X 2 and Y 2 away\n"
     ]
    }
   ],
   "source": [
    "from tkinter import *\n",
    "import random\n",
    "\n",
    "\n",
    "root = Tk()\n",
    "\n",
    "root.title(\"Treasure Hunter!!!\")\n",
    "root.iconbitmap(\"favicon.ico\")\n",
    "\n",
    "guess_counter = 0\n",
    "game_rules = Label(root, text=\"Click to search for Treasure!\")\n",
    "game_rules.pack()\n",
    "\n",
    "x_coord = random.randint(0,200)\n",
    "y_coord = random.randint(0,200)\n",
    "\n",
    "def treasure_search(event):\n",
    "    global guess_counter\n",
    "    guess_counter += 1\n",
    "    print(\"You click at x: {}, y {}. You are X {} and Y {} away\".format(event.x, event.y, abs(x_coord-event.x), abs(y_coord-event.y)))\n",
    "    \n",
    "    if abs(x_coord - event.x) <= 15 and abs(y_coord - event.y) <= 15:\n",
    "        game_rules.config(text=\"You win!!!! Number of guesses: {}\".format(guess_counter), bg=\"orange\", fg=\"blue\")\n",
    "\n",
    "game_frame = Frame(root, width=200, height=200, bg=\"yellow\")\n",
    "game_frame.bind(\"<Button-1>\", treasure_search)\n",
    "game_frame.pack()\n",
    "\n",
    "\n",
    "root.mainloop()"
   ]
  },
  {
   "cell_type": "code",
   "execution_count": null,
   "metadata": {},
   "outputs": [],
   "source": []
  }
 ],
 "metadata": {
  "kernelspec": {
   "display_name": "Python 3",
   "language": "python",
   "name": "python3"
  },
  "language_info": {
   "codemirror_mode": {
    "name": "ipython",
    "version": 3
   },
   "file_extension": ".py",
   "mimetype": "text/x-python",
   "name": "python",
   "nbconvert_exporter": "python",
   "pygments_lexer": "ipython3",
   "version": "3.6.4"
  }
 },
 "nbformat": 4,
 "nbformat_minor": 2
}
