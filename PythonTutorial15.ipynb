{
 "cells": [
  {
   "cell_type": "code",
   "execution_count": 68,
   "metadata": {},
   "outputs": [],
   "source": [
    "#Writing Files\n",
    "\n",
    "foo = open(\"foo.txt\",\"w\")\n",
    "foo.write(\"This is an awesome file!!!\\n\")\n",
    "foo.write(\" Yes!!!\\n\")\n",
    "foo.write(\"Hellooooo\")\n",
    "foo.close()\n"
   ]
  },
  {
   "cell_type": "code",
   "execution_count": 75,
   "metadata": {},
   "outputs": [
    {
     "name": "stdout",
     "output_type": "stream",
     "text": [
      "We are adding to the above...awesome\n",
      "\n",
      " Whatever\n",
      "\n",
      "Dude\n",
      "\n",
      " we have now added to the file\n"
     ]
    }
   ],
   "source": [
    "#Reading Files\n",
    "\n",
    "fo=open(\"foo.txt\",\"r\")\n",
    "for words in fo:\n",
    "    print(words)\n",
    "fo.close()"
   ]
  },
  {
   "cell_type": "code",
   "execution_count": 74,
   "metadata": {},
   "outputs": [
    {
     "data": {
      "text/plain": [
       "'We are adding to the above...awesome\\n Whatever\\nDude\\n we have now added to the file'"
      ]
     },
     "execution_count": 74,
     "metadata": {},
     "output_type": "execute_result"
    }
   ],
   "source": [
    "fo=open(\"foo.txt\",\"r\") #other way, can't explain \\n\n",
    "fo.read()"
   ]
  },
  {
   "cell_type": "code",
   "execution_count": 71,
   "metadata": {},
   "outputs": [],
   "source": [
    "#Overwriting Files"
   ]
  },
  {
   "cell_type": "code",
   "execution_count": 72,
   "metadata": {},
   "outputs": [],
   "source": [
    "foo = open(\"foo.txt\",\"w\") # WILL JUST OVERWRITE foo.txt\n",
    "foo.write(\"We are adding to the above...awesome\\n\")\n",
    "foo.write(\" Whatever\\n\")\n",
    "foo.write(\"Dude\")\n",
    "foo.close()"
   ]
  },
  {
   "cell_type": "code",
   "execution_count": 73,
   "metadata": {},
   "outputs": [],
   "source": [
    "#Adding to a File\n",
    "file = open(\"foo.txt\",\"a\")\n",
    "file.write(\"\\n we have now added to the file\")\n",
    "file.close()"
   ]
  }
 ],
 "metadata": {
  "kernelspec": {
   "display_name": "Python 3",
   "language": "python",
   "name": "python3"
  },
  "language_info": {
   "codemirror_mode": {
    "name": "ipython",
    "version": 3
   },
   "file_extension": ".py",
   "mimetype": "text/x-python",
   "name": "python",
   "nbconvert_exporter": "python",
   "pygments_lexer": "ipython3",
   "version": "3.6.4"
  }
 },
 "nbformat": 4,
 "nbformat_minor": 2
}
