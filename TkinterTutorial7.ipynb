{
 "cells": [
  {
   "cell_type": "code",
   "execution_count": null,
   "metadata": {},
   "outputs": [],
   "source": [
    "#Create a button that will print an output of the number of times it has been clicked"
   ]
  },
  {
   "cell_type": "code",
   "execution_count": 5,
   "metadata": {},
   "outputs": [],
   "source": [
    "from tkinter import *\n",
    "import random\n",
    "\n",
    "root = Tk()\n",
    "x = 0\n",
    "colorlist = [\"blue\", \"green\", \"red\", \"orange\"]\n",
    "\n",
    "def click1():\n",
    "    global x\n",
    "    x += 1\n",
    "    count_label.config(text=\"Button clicks: {}\".format(x), bg=(random.choice(colorlist)), fg=(random.choice(colorlist)))\n",
    "\n",
    "    \n",
    "click_button = Button(root, text=\"Click me and I will add 1\", command = click1)\n",
    "click_button.pack()\n",
    "count_label = Label(root, text=\"Button clicks: {}\".format(x))\n",
    "count_label.pack()\n",
    "\n",
    "root.mainloop()"
   ]
  },
  {
   "cell_type": "code",
   "execution_count": null,
   "metadata": {},
   "outputs": [],
   "source": []
  }
 ],
 "metadata": {
  "kernelspec": {
   "display_name": "Python 3",
   "language": "python",
   "name": "python3"
  },
  "language_info": {
   "codemirror_mode": {
    "name": "ipython",
    "version": 3
   },
   "file_extension": ".py",
   "mimetype": "text/x-python",
   "name": "python",
   "nbconvert_exporter": "python",
   "pygments_lexer": "ipython3",
   "version": "3.6.4"
  }
 },
 "nbformat": 4,
 "nbformat_minor": 2
}
