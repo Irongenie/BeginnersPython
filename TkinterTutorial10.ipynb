{
 "cells": [
  {
   "cell_type": "code",
   "execution_count": null,
   "metadata": {},
   "outputs": [],
   "source": [
    "#widget_name.bind(\"<event>\", function) How we have been using bind"
   ]
  },
  {
   "cell_type": "code",
   "execution_count": null,
   "metadata": {},
   "outputs": [],
   "source": [
    "#<Enter> = when cursor enters window, <Leave> = when cursor leaves."
   ]
  },
  {
   "cell_type": "code",
   "execution_count": null,
   "metadata": {},
   "outputs": [],
   "source": [
    "# instead of <Enter> you can put in any key, anytime it is tapped, function happens"
   ]
  },
  {
   "cell_type": "code",
   "execution_count": null,
   "metadata": {},
   "outputs": [],
   "source": [
    "#<Return> = when you hit enter\n",
    "# BINDING POSSIBILITIES INCLUDE:\n",
    "# Backspace, Shift_L (any shift key), Control_L (any control key), Alt_L (Any alt key), \n",
    "# Pause, Caps,Lock, Escape, Prior (Page up), Next (page down), End, Home, Left, Right, Down, \n",
    "# Print, Insert, Delete, F1-F12, Num_Lock, Scroll_lock"
   ]
  },
  {
   "cell_type": "code",
   "execution_count": 5,
   "metadata": {},
   "outputs": [
    {
     "name": "stdout",
     "output_type": "stream",
     "text": [
      "Working\n",
      "Working\n",
      "Working\n",
      "Working\n",
      "Working\n",
      "Working\n",
      "Working\n",
      "Working\n",
      "Working\n",
      "Working\n",
      "Working\n"
     ]
    }
   ],
   "source": [
    "from tkinter import *\n",
    "\n",
    "root = Tk()\n",
    "\n",
    "def event_output(event):\n",
    "    print(\"Working\")\n",
    "\n",
    "\n",
    "root.bind(\"<Enter>\", event_output)\n",
    "\n",
    "root.mainloop()"
   ]
  },
  {
   "cell_type": "code",
   "execution_count": null,
   "metadata": {},
   "outputs": [],
   "source": [
    "#B-Moion - dragging and clicking"
   ]
  },
  {
   "cell_type": "code",
   "execution_count": 11,
   "metadata": {
    "scrolled": false
   },
   "outputs": [
    {
     "name": "stdout",
     "output_type": "stream",
     "text": [
      "Working\n",
      "Working\n",
      "Working\n",
      "Working\n",
      "Working\n",
      "Working\n",
      "Working\n",
      "Working\n",
      "Working\n",
      "Working\n",
      "Working\n",
      "Working\n",
      "Working\n",
      "Working\n",
      "Working\n",
      "Working\n",
      "Working\n",
      "Working\n"
     ]
    }
   ],
   "source": [
    "from tkinter import *\n",
    "\n",
    "root = Tk()\n",
    "\n",
    "def event_output(event):\n",
    "    print(\"Working\")\n",
    "\n",
    "\n",
    "root.bind(\"B1-Motion>\", event_output)\n",
    "\n",
    "root.mainloop()"
   ]
  },
  {
   "cell_type": "code",
   "execution_count": 9,
   "metadata": {},
   "outputs": [],
   "source": [
    "#\"<Double-Button-1>\" - Double click"
   ]
  },
  {
   "cell_type": "code",
   "execution_count": null,
   "metadata": {},
   "outputs": [],
   "source": [
    "# \"<Shift-Up>\""
   ]
  }
 ],
 "metadata": {
  "kernelspec": {
   "display_name": "Python 3",
   "language": "python",
   "name": "python3"
  },
  "language_info": {
   "codemirror_mode": {
    "name": "ipython",
    "version": 3
   },
   "file_extension": ".py",
   "mimetype": "text/x-python",
   "name": "python",
   "nbconvert_exporter": "python",
   "pygments_lexer": "ipython3",
   "version": "3.6.4"
  }
 },
 "nbformat": 4,
 "nbformat_minor": 2
}
