{
 "cells": [
  {
   "cell_type": "code",
   "execution_count": null,
   "metadata": {},
   "outputs": [],
   "source": [
    "#Getting User Input"
   ]
  },
  {
   "cell_type": "code",
   "execution_count": 12,
   "metadata": {},
   "outputs": [
    {
     "name": "stdout",
     "output_type": "stream",
     "text": [
      "Jon is there name, 45 is their age:\n",
      "Jon is there name, 45 is their age:\n"
     ]
    }
   ],
   "source": [
    "from tkinter import *\n",
    "\n",
    "root = Tk()\n",
    "\n",
    "def getd():\n",
    "    data = user_entry.get()\n",
    "    data2 = user_entry2.get()\n",
    "    print(data, \"is there name,\", data2,\"is their age:\")\n",
    "    \n",
    "user_entry = Entry(root)\n",
    "button1 = Button(root, text=\"Submit\", command=getd)\n",
    "\n",
    "user_entry2 = Entry(root)\n",
    "button2 = Button(root,text=\"Second Submit\", command=getd)\n",
    "\n",
    "user_entry.pack()\n",
    "button1.pack()\n",
    "user_entry2.pack()\n",
    "button2.pack()\n",
    "\n",
    "root.mainloop()"
   ]
  }
 ],
 "metadata": {
  "kernelspec": {
   "display_name": "Python 3",
   "language": "python",
   "name": "python3"
  },
  "language_info": {
   "codemirror_mode": {
    "name": "ipython",
    "version": 3
   },
   "file_extension": ".py",
   "mimetype": "text/x-python",
   "name": "python",
   "nbconvert_exporter": "python",
   "pygments_lexer": "ipython3",
   "version": "3.6.4"
  }
 },
 "nbformat": 4,
 "nbformat_minor": 2
}
