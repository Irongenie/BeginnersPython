{
 "cells": [
  {
   "cell_type": "code",
   "execution_count": null,
   "metadata": {},
   "outputs": [],
   "source": [
    "#Drawing Shapes"
   ]
  },
  {
   "cell_type": "code",
   "execution_count": 14,
   "metadata": {},
   "outputs": [],
   "source": [
    "from tkinter import *\n",
    "\n",
    "root = Tk()\n",
    "\n",
    "canvas2 = Canvas(root, height=300, width=300)\n",
    "canvas2.pack()\n",
    "\n",
    "canvas2.create_line(26,255, 120, 2)\n",
    "canvas2.create_rectangle(50, 50, 190, 150, fill=\"orange\", outline=\"red\", width=30)\n",
    "canvas2.create_oval(20,160,40,190)\n",
    "canvas2.create_oval( 160, 20, 250,250, fill=\"blue\")\n",
    "canvas2.create_polygon(50,50, 100,100,190,105)\n",
    "#triangle example, can add more points, triangle is 3 defined by 3 sets of xy coord\n",
    "\n",
    "root.mainloop()"
   ]
  },
  {
   "cell_type": "code",
   "execution_count": null,
   "metadata": {},
   "outputs": [],
   "source": []
  }
 ],
 "metadata": {
  "kernelspec": {
   "display_name": "Python 3",
   "language": "python",
   "name": "python3"
  },
  "language_info": {
   "codemirror_mode": {
    "name": "ipython",
    "version": 3
   },
   "file_extension": ".py",
   "mimetype": "text/x-python",
   "name": "python",
   "nbconvert_exporter": "python",
   "pygments_lexer": "ipython3",
   "version": "3.6.4"
  }
 },
 "nbformat": 4,
 "nbformat_minor": 2
}
