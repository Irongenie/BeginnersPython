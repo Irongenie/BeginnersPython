{
 "cells": [
  {
   "cell_type": "markdown",
   "metadata": {
    "collapsed": true
   },
   "source": [
    "1) Create and write a text file called 'amazing_file' with a few lines about how awesome python is (don't forget file.close())"
   ]
  },
  {
   "cell_type": "code",
   "execution_count": 46,
   "metadata": {},
   "outputs": [],
   "source": [
    "af = open(\"amazing_file.txt\",\"w\")\n",
    "af.write(\"Python is a wonderful program, I am really happy I am learning it\\n\")\n",
    "af.write(\"Hopefully this skill will get me a good job in the near future\")\n",
    "af.close()"
   ]
  },
  {
   "cell_type": "markdown",
   "metadata": {
    "collapsed": true
   },
   "source": [
    "2) Read the file"
   ]
  },
  {
   "cell_type": "code",
   "execution_count": 8,
   "metadata": {},
   "outputs": [],
   "source": [
    "afopen = open(\"amazing_file.txt\",\"r\")"
   ]
  },
  {
   "cell_type": "code",
   "execution_count": 9,
   "metadata": {
    "scrolled": false
   },
   "outputs": [
    {
     "name": "stdout",
     "output_type": "stream",
     "text": [
      "Machine Learning is cool, I want to know more about python.\n",
      "\n",
      "Hope this adds on.\n"
     ]
    }
   ],
   "source": [
    "for words in afopen:\n",
    "    print(words)\n",
    "afopen.close()"
   ]
  },
  {
   "cell_type": "markdown",
   "metadata": {
    "collapsed": true
   },
   "source": [
    "3) Overwrite the file with a few lines of text on how interesting Machine learning is then read file again"
   ]
  },
  {
   "cell_type": "code",
   "execution_count": 6,
   "metadata": {},
   "outputs": [],
   "source": [
    "af = open(\"amazing_file.txt\",\"w\")\n",
    "af.write(\"Machine Learning is cool, I want to know more about python.\")\n",
    "af.close()"
   ]
  },
  {
   "cell_type": "markdown",
   "metadata": {
    "collapsed": true
   },
   "source": [
    "4) Add text onto the file without overwriting the text you added in 3)"
   ]
  },
  {
   "cell_type": "code",
   "execution_count": 7,
   "metadata": {},
   "outputs": [],
   "source": [
    "afap = open(\"amazing_file.txt\",\"a\")\n",
    "afap.write(\"\\nHope this adds on.\")\n",
    "afap.close()"
   ]
  }
 ],
 "metadata": {
  "kernelspec": {
   "display_name": "Python 3",
   "language": "python",
   "name": "python3"
  },
  "language_info": {
   "codemirror_mode": {
    "name": "ipython",
    "version": 3
   },
   "file_extension": ".py",
   "mimetype": "text/x-python",
   "name": "python",
   "nbconvert_exporter": "python",
   "pygments_lexer": "ipython3",
   "version": "3.6.4"
  }
 },
 "nbformat": 4,
 "nbformat_minor": 2
}
