{
 "cells": [
  {
   "cell_type": "code",
   "execution_count": null,
   "metadata": {},
   "outputs": [],
   "source": [
    "# EVENTS"
   ]
  },
  {
   "cell_type": "code",
   "execution_count": null,
   "metadata": {},
   "outputs": [],
   "source": [
    "#Event x and y"
   ]
  },
  {
   "cell_type": "code",
   "execution_count": null,
   "metadata": {},
   "outputs": [
    {
     "name": "stdout",
     "output_type": "stream",
     "text": [
      "X-coordinate: 27, y-coordinate: 40\n",
      "X-coordinate: 18, y-coordinate: 148\n",
      "X-coordinate: 17, y-coordinate: 191\n",
      "X-coordinate: 770, y-coordinate: 583\n",
      "X-coordinate: 1370, y-coordinate: 1216\n",
      "X-coordinate: 1862, y-coordinate: 1322\n",
      "X-coordinate: 2318, y-coordinate: 1317\n",
      "X-coordinate: 2555, y-coordinate: 1101\n",
      "X-coordinate: 88, y-coordinate: 151\n",
      "X-coordinate: 99, y-coordinate: 112\n",
      "X-coordinate: 99, y-coordinate: 94\n",
      "X-coordinate: 57, y-coordinate: 72\n",
      "X-coordinate: 23, y-coordinate: 70\n",
      "X-coordinate: 81, y-coordinate: 130\n",
      "X-coordinate: 160, y-coordinate: 113\n",
      "X-coordinate: 127, y-coordinate: 58\n",
      "X-coordinate: 4, y-coordinate: 35\n"
     ]
    }
   ],
   "source": [
    "from tkinter import *\n",
    "\n",
    "root = Tk()\n",
    "\n",
    "def func1(event):\n",
    "    print(\"X-coordinate: {}, y-coordinate: {}\".format(event.x, event.y))\n",
    "\n",
    "\n",
    "root.bind(\"<Button-1>\", func1)\n",
    "\n",
    "\n",
    "root.mainloop()"
   ]
  }
 ],
 "metadata": {
  "kernelspec": {
   "display_name": "Python 3",
   "language": "python",
   "name": "python3"
  },
  "language_info": {
   "codemirror_mode": {
    "name": "ipython",
    "version": 3
   },
   "file_extension": ".py",
   "mimetype": "text/x-python",
   "name": "python",
   "nbconvert_exporter": "python",
   "pygments_lexer": "ipython3",
   "version": "3.6.4"
  }
 },
 "nbformat": 4,
 "nbformat_minor": 2
}
